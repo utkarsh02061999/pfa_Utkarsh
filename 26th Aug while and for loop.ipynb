{
 "cells": [
  {
   "cell_type": "code",
   "execution_count": 1,
   "id": "b969961d",
   "metadata": {},
   "outputs": [
    {
     "name": "stdout",
     "output_type": "stream",
     "text": [
      "done\n",
      "Done\n"
     ]
    }
   ],
   "source": [
    "while True:\n",
    "     line= input()\n",
    "     if line[0]==\"#\":\n",
    "        continue\n",
    "     if line==\"done\":\n",
    "        break\n",
    "     print(line)\n",
    "print(\"Done\")"
   ]
  },
  {
   "cell_type": "code",
   "execution_count": 2,
   "id": "78161292",
   "metadata": {},
   "outputs": [
    {
     "name": "stdout",
     "output_type": "stream",
     "text": [
      "5\n",
      "4\n",
      "3\n",
      "2\n",
      "1\n",
      "blastoff!\n"
     ]
    }
   ],
   "source": [
    "for i in [5,4,3,2,1]:\n",
    "    print(i)\n",
    "print(\"blastoff!\")"
   ]
  },
  {
   "cell_type": "code",
   "execution_count": 3,
   "id": "aac525a4",
   "metadata": {},
   "outputs": [
    {
     "name": "stdout",
     "output_type": "stream",
     "text": [
      "a\n",
      "b\n",
      "c\n",
      "d\n",
      "e\n",
      "blastoff!\n"
     ]
    }
   ],
   "source": [
    "for i in [\"a\",\"b\",\"c\",\"d\",\"e\"]:\n",
    "    print(i)\n",
    "print(\"blastoff!\")"
   ]
  },
  {
   "cell_type": "code",
   "execution_count": 4,
   "id": "c75cf35e",
   "metadata": {},
   "outputs": [
    {
     "name": "stdout",
     "output_type": "stream",
     "text": [
      "1\n",
      "2\n",
      "3\n",
      "4\n",
      "5\n",
      "Blastoff!!!\n"
     ]
    }
   ],
   "source": [
    "kp=[1,2,3,4,5]\n",
    "for ab in kp:\n",
    "    print(ab)\n",
    "print(\"Blastoff!!!\")"
   ]
  },
  {
   "cell_type": "code",
   "execution_count": 6,
   "id": "52474204",
   "metadata": {},
   "outputs": [
    {
     "name": "stdout",
     "output_type": "stream",
     "text": [
      "happy new year RB\n",
      "happy new year AB\n",
      "happy new year PJ\n",
      "Done!!\n"
     ]
    }
   ],
   "source": [
    "friends=[\"RB\",\"AB\",\"PJ\"]\n",
    "for friend in friends:\n",
    "    print(\"happy new year\",friend)\n",
    "print(\"Done!!\")"
   ]
  },
  {
   "cell_type": "code",
   "execution_count": 7,
   "id": "5ba882ed",
   "metadata": {},
   "outputs": [
    {
     "name": "stdout",
     "output_type": "stream",
     "text": [
      "Before\n",
      "1\n",
      "2\n",
      "3\n",
      "4\n",
      "5\n",
      "after\n"
     ]
    }
   ],
   "source": [
    "a=[1,2,3,4,5]\n",
    "print(\"Before\")\n",
    "for f in a:\n",
    "    print(f)\n",
    "print(\"after\")"
   ]
  },
  {
   "cell_type": "code",
   "execution_count": 90,
   "id": "a003e4dd",
   "metadata": {},
   "outputs": [
    {
     "name": "stdout",
     "output_type": "stream",
     "text": [
      "before\n",
      "1 4\n",
      "2 5\n",
      "3 6\n",
      "4 7\n",
      "5 8\n",
      "6 9\n",
      "after\n"
     ]
    }
   ],
   "source": [
    "a=[4,5,6,7,8,9]\n",
    "print(\"before\")\n",
    "count=0\n",
    "for i in a:\n",
    "    count=count+1\n",
    "    print(count ,i)\n",
    "print(\"after\")"
   ]
  },
  {
   "cell_type": "code",
   "execution_count": 86,
   "id": "65b38604",
   "metadata": {},
   "outputs": [
    {
     "name": "stdout",
     "output_type": "stream",
     "text": [
      "before\n",
      "1 45\n",
      "2 46\n",
      "3 47\n",
      "4 48\n",
      "5 49\n",
      "6 50\n",
      "7 51\n",
      "after\n"
     ]
    }
   ],
   "source": [
    "print(\"before\")\n",
    "count=0\n",
    "for i in range(45,52):  \n",
    "    count=count+1\n",
    "    print(count,i)\n",
    "print(\"after\")"
   ]
  },
  {
   "cell_type": "code",
   "execution_count": 32,
   "id": "6d733187",
   "metadata": {},
   "outputs": [
    {
     "name": "stdout",
     "output_type": "stream",
     "text": [
      "before None\n",
      "LP 4 4\n",
      "LP 55 55\n",
      "LP 66 66\n",
      "LP 89 89\n",
      "Largest 89\n"
     ]
    }
   ],
   "source": [
    "largest= None\n",
    "print(\"before\",largest)\n",
    "ab=[4,55,66,89]\n",
    "\n",
    "for i in ab:\n",
    "    if largest is None or i>largest:\n",
    "        largest= i\n",
    "        print(\"LP\",largest,i)\n",
    "print(\"Largest\",largest)\n",
    "\n"
   ]
  },
  {
   "cell_type": "code",
   "execution_count": 34,
   "id": "5eaa15fe",
   "metadata": {},
   "outputs": [
    {
     "name": "stdout",
     "output_type": "stream",
     "text": [
      "Before:  0\n",
      "Total:  243\n"
     ]
    }
   ],
   "source": [
    "total=0\n",
    "print(\"Before: \",total)\n",
    "for abc in [4,55,88,96]:\n",
    "    total=total+abc\n",
    "print(\"Total: \",total)"
   ]
  },
  {
   "cell_type": "code",
   "execution_count": 35,
   "id": "8ba71106",
   "metadata": {},
   "outputs": [
    {
     "name": "stdout",
     "output_type": "stream",
     "text": [
      "Before:  -1\n",
      "4 4\n",
      "55 55\n",
      "88 88\n",
      "96 96\n",
      "Largest 96\n"
     ]
    }
   ],
   "source": [
    "largest=-1\n",
    "print(\"Before: \",largest)\n",
    "for num in [4,55,88,96]:\n",
    "    if num>largest:\n",
    "        largest=num\n",
    "    print(largest,num)\n",
    "print(\"Largest\",largest)"
   ]
  },
  {
   "cell_type": "code",
   "execution_count": 37,
   "id": "b925db1a",
   "metadata": {},
   "outputs": [
    {
     "name": "stdout",
     "output_type": "stream",
     "text": [
      "Before\n",
      "1 9 9\n",
      "2 41 50\n",
      "3 12 62\n",
      "4 3 65\n",
      "5 74 139\n",
      "6 15 154\n",
      "After 154\n"
     ]
    }
   ],
   "source": [
    "print(\"Before\")\n",
    "count=0\n",
    "sum=0\n",
    "\n",
    "for abc in [9,41,12,3,74,15]:\n",
    "    count=count+1\n",
    "    sum=sum+abc\n",
    "    print(count,abc,sum)\n",
    "\n",
    "    \n",
    "print('After',sum)"
   ]
  },
  {
   "cell_type": "code",
   "execution_count": 39,
   "id": "471ae3b9",
   "metadata": {},
   "outputs": [
    {
     "name": "stdout",
     "output_type": "stream",
     "text": [
      "Before:  0\n",
      "1 9 9 1.5\n",
      "2 41 50 8.333333333333334\n",
      "3 12 62 10.333333333333334\n",
      "4 3 65 10.833333333333334\n",
      "5 74 139 23.166666666666668\n",
      "6 15 154 25.666666666666668\n",
      "After 154 25.666666666666668\n"
     ]
    }
   ],
   "source": [
    "Avg=0\n",
    "total=0\n",
    "count=0\n",
    "print(\"Before: \",Avg)\n",
    "for abc in [9,41,12,3,74,15]:\n",
    "    total=total+abc\n",
    "    Avg=total/6\n",
    "    count=count+1\n",
    "    print(count,abc,total,Avg)\n",
    "print(\"After\",total,Avg)"
   ]
  },
  {
   "cell_type": "code",
   "execution_count": 41,
   "id": "60552fa3",
   "metadata": {},
   "outputs": [
    {
     "name": "stdout",
     "output_type": "stream",
     "text": [
      "Before:  0\n",
      "9 9 9.0\n",
      "41 50 25.0\n",
      "12 62 20.666666666666668\n",
      "3 65 16.25\n",
      "74 139 27.8\n",
      "15 154 25.666666666666668\n",
      "After 154 25.666666666666668\n"
     ]
    }
   ],
   "source": [
    "Avg=0\n",
    "total=0\n",
    "count=0\n",
    "print(\"Before: \",Avg)\n",
    "for abc in [9,41,12,3,74,15]:\n",
    "    total=total+abc\n",
    "    count=count+1\n",
    "    Avg=total/count\n",
    "    print(abc,total,Avg)\n",
    "print(\"After\",total,Avg)"
   ]
  },
  {
   "cell_type": "code",
   "execution_count": null,
   "id": "48981ab8",
   "metadata": {},
   "outputs": [],
   "source": [
    "total=0\n",
    "for abc in range(6):\n",
    "    abc=float(input(\"enter the number: \"))\n",
    "    total=total+abc\n",
    "    print(abc,total)\n",
    "print(\"Sum\",total)"
   ]
  },
  {
   "cell_type": "code",
   "execution_count": 24,
   "id": "82815f3f",
   "metadata": {},
   "outputs": [
    {
     "name": "stdout",
     "output_type": "stream",
     "text": [
      "number greater than twenty 41\n",
      "number greater than twenty 22\n",
      "number greater than twenty 36\n",
      "number greater than twenty 54\n"
     ]
    }
   ],
   "source": [
    "x=[9,41,22,36,12,54]\n",
    "for abc in x:\n",
    "    if abc>20:\n",
    "        print(\"number greater than twenty\",abc)\n"
   ]
  },
  {
   "cell_type": "code",
   "execution_count": 25,
   "id": "4badc395",
   "metadata": {},
   "outputs": [
    {
     "name": "stdout",
     "output_type": "stream",
     "text": [
      "Before:  None\n",
      "Smallest 8\n"
     ]
    }
   ],
   "source": [
    "smallest= None\n",
    "print(\"Before: \",smallest)\n",
    "for st in [9,41,74,56,8,25]:\n",
    "    if smallest is None or st<smallest:\n",
    "        smallest=st\n",
    "       # print(smallest,st)\n",
    "print(\"Smallest\",smallest)"
   ]
  },
  {
   "cell_type": "code",
   "execution_count": 4,
   "id": "77dab94f",
   "metadata": {},
   "outputs": [
    {
     "name": "stdout",
     "output_type": "stream",
     "text": [
      "Before:  30\n",
      "9 9\n",
      "8 8\n",
      "Minimum 8\n"
     ]
    }
   ],
   "source": [
    "list=[9,41,25,63,74,8]\n",
    "min=30\n",
    "print(\"Before: \",min)\n",
    "for mn in list:\n",
    "    if mn<min:\n",
    "        min=mn\n",
    "        print(min,mn)\n",
    "print(\"Minimum\",mn)\n",
    "        "
   ]
  },
  {
   "cell_type": "code",
   "execution_count": 23,
   "id": "f1b75923",
   "metadata": {},
   "outputs": [
    {
     "name": "stdout",
     "output_type": "stream",
     "text": [
      "Before:  9\n",
      "minimum 8\n"
     ]
    }
   ],
   "source": [
    "values=[9,41,36,63,74,8]\n",
    "min=values[0]\n",
    "print(\"Before: \",min)\n",
    "for i in values:\n",
    "    if i<min:\n",
    "        min= i\n",
    "       # print(min,i)\n",
    "print(\"minimum\",i)"
   ]
  },
  {
   "cell_type": "code",
   "execution_count": null,
   "id": "c8c5d683",
   "metadata": {},
   "outputs": [],
   "source": []
  }
 ],
 "metadata": {
  "kernelspec": {
   "display_name": "Python 3",
   "language": "python",
   "name": "python3"
  },
  "language_info": {
   "codemirror_mode": {
    "name": "ipython",
    "version": 3
   },
   "file_extension": ".py",
   "mimetype": "text/x-python",
   "name": "python",
   "nbconvert_exporter": "python",
   "pygments_lexer": "ipython3",
   "version": "3.8.8"
  }
 },
 "nbformat": 4,
 "nbformat_minor": 5
}
