{
 "cells": [
  {
   "cell_type": "code",
   "execution_count": 3,
   "id": "8c908a96",
   "metadata": {},
   "outputs": [
    {
     "name": "stdout",
     "output_type": "stream",
     "text": [
      "Hello\n",
      "Yo\n",
      "I'm a lumberjack and I'm okay\n",
      "I sleep all night and I work all day\n",
      "7\n"
     ]
    }
   ],
   "source": [
    "x=5\n",
    "print(\"Hello\")\n",
    "def print_lyrics():\n",
    "    print(\"I'm a lumberjack and I'm okay\")\n",
    "    print(\"I sleep all night and I work all day\")\n",
    "print(\"Yo\")\n",
    "print_lyrics()\n",
    "x=x+2\n",
    "print(x)"
   ]
  },
  {
   "cell_type": "code",
   "execution_count": 10,
   "id": "5f2d51de",
   "metadata": {},
   "outputs": [
    {
     "name": "stdout",
     "output_type": "stream",
     "text": [
      "hello Rahul\n",
      "are you having fun Rahul\n",
      "zip\n",
      "hello Rahul\n",
      "are you having fun Rahul\n"
     ]
    }
   ],
   "source": [
    "def thing(name):\n",
    " \n",
    "    print(\"hello \"+name)\n",
    "    print(\"are you having fun \"+name)\n",
    "thing(\"Rahul\")\n",
    "print(\"zip\")\n",
    "thing(\"Rahul\")"
   ]
  },
  {
   "cell_type": "code",
   "execution_count": 14,
   "id": "e9efbef2",
   "metadata": {},
   "outputs": [
    {
     "name": "stdout",
     "output_type": "stream",
     "text": [
      "Hola\n",
      "Bonjour\n",
      "Hello\n"
     ]
    }
   ],
   "source": [
    "def greet(lang):\n",
    "    if lang=='es':\n",
    "        print(\"Hola\")\n",
    "    elif lang=='fr':\n",
    "        print(\"Bonjour\")\n",
    "    else:\n",
    "        print(\"Hello\")\n",
    "greet(\"es\")\n",
    "greet(\"fr\")\n",
    "greet(\"en\")"
   ]
  },
  {
   "cell_type": "code",
   "execution_count": 19,
   "id": "9904fdc2",
   "metadata": {},
   "outputs": [
    {
     "name": "stdout",
     "output_type": "stream",
     "text": [
      "Hello Glenn\n",
      "Hello sally\n"
     ]
    }
   ],
   "source": [
    "def greet():\n",
    "    return \"Hello\"\n",
    "print(greet(),\"Glenn\")\n",
    "print(greet(),\"sally\")\n"
   ]
  },
  {
   "cell_type": "code",
   "execution_count": 21,
   "id": "89a5b3ae",
   "metadata": {},
   "outputs": [
    {
     "name": "stdout",
     "output_type": "stream",
     "text": [
      "Hola Glenn\n",
      "Bonjour Sally\n",
      "Hello RB\n"
     ]
    }
   ],
   "source": [
    "def greet(lang):\n",
    "    if lang==\"es\":\n",
    "        return \"Hola\"\n",
    "    elif lang==\"fr\":\n",
    "        return \"Bonjour\"\n",
    "    else:\n",
    "        return \"Hello\"\n",
    "print(greet(\"es\"),\"Glenn\")\n",
    "print(greet(\"fr\"),\"Sally\")\n",
    "print(greet(\"en\"),\"RB\")"
   ]
  },
  {
   "cell_type": "code",
   "execution_count": null,
   "id": "594540f8",
   "metadata": {},
   "outputs": [],
   "source": []
  }
 ],
 "metadata": {
  "kernelspec": {
   "display_name": "Python 3",
   "language": "python",
   "name": "python3"
  },
  "language_info": {
   "codemirror_mode": {
    "name": "ipython",
    "version": 3
   },
   "file_extension": ".py",
   "mimetype": "text/x-python",
   "name": "python",
   "nbconvert_exporter": "python",
   "pygments_lexer": "ipython3",
   "version": "3.8.8"
  }
 },
 "nbformat": 4,
 "nbformat_minor": 5
}
