{
 "cells": [
  {
   "cell_type": "code",
   "execution_count": 1,
   "id": "12d35dde",
   "metadata": {},
   "outputs": [
    {
     "name": "stdout",
     "output_type": "stream",
     "text": [
      "come to my blog\n"
     ]
    }
   ],
   "source": [
    "#Q1.taking the strings as \"welcome to my blog\" and printing output as \"come to my blog\"\n",
    "str=\"welcome to my blog\"\n",
    "print(str[3:18])"
   ]
  },
  {
   "cell_type": "code",
   "execution_count": 2,
   "id": "3b4906c9",
   "metadata": {},
   "outputs": [
    {
     "name": "stdout",
     "output_type": "stream",
     "text": [
      "loet y\n"
     ]
    }
   ],
   "source": [
    "#b.required output as \"loet y\"\n",
    "str=\"welcome to my blog\"\n",
    "print(str[2:13:2])"
   ]
  },
  {
   "cell_type": "code",
   "execution_count": 4,
   "id": "5cc8c6bc",
   "metadata": {},
   "outputs": [
    {
     "name": "stdout",
     "output_type": "stream",
     "text": [
      "welcom\n"
     ]
    }
   ],
   "source": [
    "#c. required output as welcom\n",
    "str=\"welcome to my blog\"\n",
    "print(str[-18:-12])"
   ]
  },
  {
   "cell_type": "code",
   "execution_count": 5,
   "id": "9df7c9f3",
   "metadata": {},
   "outputs": [
    {
     "name": "stdout",
     "output_type": "stream",
     "text": [
      "to my blo\n"
     ]
    }
   ],
   "source": [
    "#d.required output as to my blo\n",
    "str=\"welcome to my blog\"\n",
    "print(str[-10:-1])"
   ]
  },
  {
   "cell_type": "code",
   "execution_count": 11,
   "id": "c1f41d55",
   "metadata": {},
   "outputs": [
    {
     "name": "stdout",
     "output_type": "stream",
     "text": [
      "\n"
     ]
    }
   ],
   "source": [
    "#e. required output as no output\n",
    "str=\"welcome to my blog\"\n",
    "print(str[17:0])"
   ]
  },
  {
   "cell_type": "code",
   "execution_count": 12,
   "id": "2dea6383",
   "metadata": {},
   "outputs": [
    {
     "name": "stdout",
     "output_type": "stream",
     "text": [
      "wce\n"
     ]
    }
   ],
   "source": [
    "#f. required output as wce\n",
    "str=\"welcome to my blog\"\n",
    "print(str[0:7:3])"
   ]
  },
  {
   "cell_type": "code",
   "execution_count": 13,
   "id": "e9155a7c",
   "metadata": {},
   "outputs": [
    {
     "name": "stdout",
     "output_type": "stream",
     "text": [
      "om lg\n"
     ]
    }
   ],
   "source": [
    "#g. required output as om lg\n",
    "str=\"welcome to my blog\"\n",
    "print(str[4:6],str[15:18:2])"
   ]
  },
  {
   "cell_type": "code",
   "execution_count": 52,
   "id": "3a48822c",
   "metadata": {},
   "outputs": [
    {
     "name": "stdout",
     "output_type": "stream",
     "text": [
      "y\n",
      "y\n"
     ]
    }
   ],
   "source": [
    "#h.required output as y\n",
    "str=\"welcome to my blog\"\n",
    "print(str[12])\n",
    "print(str[-6:-5:1])\n"
   ]
  },
  {
   "cell_type": "code",
   "execution_count": 16,
   "id": "69971703",
   "metadata": {},
   "outputs": [
    {
     "name": "stdout",
     "output_type": "stream",
     "text": [
      "\n"
     ]
    }
   ],
   "source": [
    "#i. required output as no output\n",
    "print(str[-18:0])"
   ]
  },
  {
   "cell_type": "code",
   "execution_count": 23,
   "id": "22b9e9ad",
   "metadata": {},
   "outputs": [
    {
     "name": "stdout",
     "output_type": "stream",
     "text": [
      "tmbg\n"
     ]
    }
   ],
   "source": [
    "#j.required output as tmbg\n",
    "print(str[8:18:3])"
   ]
  },
  {
   "cell_type": "code",
   "execution_count": 26,
   "id": "e9dfcc18",
   "metadata": {},
   "outputs": [
    {
     "name": "stdout",
     "output_type": "stream",
     "text": [
      "g in\n"
     ]
    }
   ],
   "source": [
    "#Q2.string as \"string slicing in python\"\n",
    "#a. required output as g in\n",
    "str=\"string slicing in python\"\n",
    "print(str[13],str[15:17])"
   ]
  },
  {
   "cell_type": "code",
   "execution_count": 27,
   "id": "76779389",
   "metadata": {},
   "outputs": [
    {
     "name": "stdout",
     "output_type": "stream",
     "text": [
      "o\n"
     ]
    }
   ],
   "source": [
    "#b. required output as \"o\"\n",
    "str=\"string slicing in python\"\n",
    "print(str[22])"
   ]
  },
  {
   "cell_type": "code",
   "execution_count": 28,
   "id": "3ee2ebd5",
   "metadata": {},
   "outputs": [
    {
     "name": "stdout",
     "output_type": "stream",
     "text": [
      "n n\n"
     ]
    }
   ],
   "source": [
    "#c. required output as \"n n\"\n",
    "str=\"string slicing in python\"\n",
    "print(str[12],str[16])"
   ]
  },
  {
   "cell_type": "code",
   "execution_count": 29,
   "id": "1c8295f4",
   "metadata": {},
   "outputs": [
    {
     "name": "stdout",
     "output_type": "stream",
     "text": [
      "slicing in pytho\n"
     ]
    }
   ],
   "source": [
    "#d. required output as \"slicing in pytho\"\n",
    "str=\"string slicing in python\"\n",
    "print(str[7:23])"
   ]
  },
  {
   "cell_type": "code",
   "execution_count": 2,
   "id": "c812263f",
   "metadata": {},
   "outputs": [
    {
     "name": "stdout",
     "output_type": "stream",
     "text": [
      "pn ncl\n"
     ]
    }
   ],
   "source": [
    "#e. required output as pn ncl\n",
    "str=\"string slicing in python\"\n",
    "print(str[18:24:5],str[12:7:-2])\n"
   ]
  },
  {
   "cell_type": "code",
   "execution_count": 42,
   "id": "eb104989",
   "metadata": {},
   "outputs": [
    {
     "name": "stdout",
     "output_type": "stream",
     "text": [
      "si\n"
     ]
    }
   ],
   "source": [
    "#f.required output as \"si\"\n",
    "str=\"string slicing in python\"\n",
    "print(str[7:10:2])"
   ]
  },
  {
   "cell_type": "code",
   "execution_count": 43,
   "id": "e4674375",
   "metadata": {},
   "outputs": [
    {
     "name": "stdout",
     "output_type": "stream",
     "text": [
      "ython\n"
     ]
    }
   ],
   "source": [
    "#g.required output as \"yhton\"\n",
    "str=\"string slicing in python\"\n",
    "print(str[19:24])"
   ]
  },
  {
   "cell_type": "code",
   "execution_count": 44,
   "id": "18902dc6",
   "metadata": {},
   "outputs": [
    {
     "name": "stdout",
     "output_type": "stream",
     "text": [
      "p\n"
     ]
    }
   ],
   "source": [
    "#h.required output as \"p\"\n",
    "str=\"string slicing in python\"\n",
    "print(str[18])"
   ]
  },
  {
   "cell_type": "code",
   "execution_count": 65,
   "id": "06070796",
   "metadata": {},
   "outputs": [
    {
     "name": "stdout",
     "output_type": "stream",
     "text": [
      "i  gnicils gnirt\n"
     ]
    }
   ],
   "source": [
    "#i. required output as \"i gnicilS gnirt\"\n",
    "str=\"string slicing in python\"\n",
    "print(str[3],str[14:6:-1],str[5:0:-1])"
   ]
  },
  {
   "cell_type": "code",
   "execution_count": 66,
   "id": "e3508200",
   "metadata": {},
   "outputs": [
    {
     "name": "stdout",
     "output_type": "stream",
     "text": [
      "rgli\n"
     ]
    }
   ],
   "source": [
    "#j.required output as \"rgli\"\n",
    "str=\"string slicing in python\"\n",
    "print(str[2:12:3])"
   ]
  },
  {
   "cell_type": "code",
   "execution_count": null,
   "id": "419c2db9",
   "metadata": {},
   "outputs": [],
   "source": []
  }
 ],
 "metadata": {
  "kernelspec": {
   "display_name": "Python 3",
   "language": "python",
   "name": "python3"
  },
  "language_info": {
   "codemirror_mode": {
    "name": "ipython",
    "version": 3
   },
   "file_extension": ".py",
   "mimetype": "text/x-python",
   "name": "python",
   "nbconvert_exporter": "python",
   "pygments_lexer": "ipython3",
   "version": "3.8.8"
  }
 },
 "nbformat": 4,
 "nbformat_minor": 5
}
