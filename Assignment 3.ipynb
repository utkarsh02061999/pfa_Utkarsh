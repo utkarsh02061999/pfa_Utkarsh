{
 "cells": [
  {
   "cell_type": "code",
   "execution_count": 1,
   "id": "04a30b8e",
   "metadata": {},
   "outputs": [
    {
     "name": "stdout",
     "output_type": "stream",
     "text": [
      "enter the total no of Hours55\n",
      "enter the rate10\n",
      "the output is 625.0\n"
     ]
    }
   ],
   "source": [
    "def computepay(hours,rate):\n",
    "    hours=input(\"enter the total no of Hours\")\n",
    "    rate=input(\"enter the rate\")\n",
    "    a=float(hours)\n",
    "    b=float(rate)\n",
    "    result=a*b\n",
    "    \n",
    "    if a>40:\n",
    "        res=(40*b)+(a-40)*(1.5*b)\n",
    "        print(\"the output is\",res)\n",
    "    else:\n",
    "        print(\"the output is\",result)\n",
    "computepay(\"a\",\"b\")"
   ]
  },
  {
   "cell_type": "code",
   "execution_count": 8,
   "id": "349022c6",
   "metadata": {},
   "outputs": [
    {
     "name": "stdout",
     "output_type": "stream",
     "text": [
      "enter the total no of hours45\n",
      "enter the rate10\n"
     ]
    },
    {
     "data": {
      "text/plain": [
       "475.0"
      ]
     },
     "execution_count": 8,
     "metadata": {},
     "output_type": "execute_result"
    }
   ],
   "source": [
    "def computepay(hours,rate):\n",
    "    hours=input(\"enter the total no of hours\")\n",
    "    rate=input(\"enter the rate\")\n",
    "    x=float(hours)\n",
    "    y=float(rate)\n",
    "    \n",
    "    if x>40:\n",
    "        result1=(40*y)+(x-40)*(1.5*y)\n",
    "        return(result1)\n",
    "    else:\n",
    "        result2=x*y\n",
    "        return(result2)\n",
    "computepay(\"x\",\"y\")\n"
   ]
  },
  {
   "cell_type": "code",
   "execution_count": 14,
   "id": "a23cc4eb",
   "metadata": {},
   "outputs": [
    {
     "name": "stdout",
     "output_type": "stream",
     "text": [
      "enter total hours40\n",
      "enter rate10\n"
     ]
    },
    {
     "data": {
      "text/plain": [
       "400.0"
      ]
     },
     "execution_count": 14,
     "metadata": {},
     "output_type": "execute_result"
    }
   ],
   "source": [
    "def computepay(hours,rate):\n",
    "    hours=float(input(\"enter total hours\"))\n",
    "    rate=float(input(\"enter rate\"))\n",
    "    if hours>40:\n",
    "        result=(40*rate)+(hours-40)*(1.5*rate)\n",
    "        return(result)\n",
    "    else:\n",
    "        result1=hours*rate\n",
    "        return(result1)\n",
    "\n",
    "computepay(\"hours\",\"rate\")"
   ]
  },
  {
   "cell_type": "code",
   "execution_count": 15,
   "id": "28667842",
   "metadata": {},
   "outputs": [
    {
     "name": "stdout",
     "output_type": "stream",
     "text": [
      "Hello\n"
     ]
    }
   ],
   "source": [
    "def stuff():\n",
    "    print(\"Hello\")\n",
    "    return\n",
    "    print(\"world\")\n",
    "stuff()"
   ]
  },
  {
   "cell_type": "code",
   "execution_count": 18,
   "id": "3c761b35",
   "metadata": {},
   "outputs": [
    {
     "name": "stdout",
     "output_type": "stream",
     "text": [
      "7\n"
     ]
    }
   ],
   "source": [
    "def addtwo(a,b):\n",
    "    added=a+b\n",
    "    return b\n",
    "x=addtwo(2,7)\n",
    "print(x)\n"
   ]
  },
  {
   "cell_type": "code",
   "execution_count": null,
   "id": "bfbd4993",
   "metadata": {},
   "outputs": [],
   "source": []
  }
 ],
 "metadata": {
  "kernelspec": {
   "display_name": "Python 3",
   "language": "python",
   "name": "python3"
  },
  "language_info": {
   "codemirror_mode": {
    "name": "ipython",
    "version": 3
   },
   "file_extension": ".py",
   "mimetype": "text/x-python",
   "name": "python",
   "nbconvert_exporter": "python",
   "pygments_lexer": "ipython3",
   "version": "3.8.8"
  }
 },
 "nbformat": 4,
 "nbformat_minor": 5
}
