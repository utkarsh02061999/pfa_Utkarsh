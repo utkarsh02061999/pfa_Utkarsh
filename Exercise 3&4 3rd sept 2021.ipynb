{
 "cells": [
  {
   "cell_type": "code",
   "execution_count": 1,
   "id": "31b23d23",
   "metadata": {},
   "outputs": [
    {
     "name": "stdout",
     "output_type": "stream",
     "text": [
      "This statement will always be executed 5\n"
     ]
    }
   ],
   "source": [
    "#Q6. Assigning value 5 to variable num and using if statement if the number is less than 10 \n",
    "num=5\n",
    "if num<10:\n",
    "    print(\"This statement will always be executed\",num)\n",
    "else:\n",
    "    print(\"The number is greater than 10\")"
   ]
  },
  {
   "cell_type": "code",
   "execution_count": 1,
   "id": "31a787db",
   "metadata": {},
   "outputs": [
    {
     "name": "stdout",
     "output_type": "stream",
     "text": [
      "enter the passing score60\n",
      "enter your score75\n",
      "Congratulations you have passed your exam\n"
     ]
    }
   ],
   "source": [
    "#Q7.taking inputs form user and printing statements about exam score\n",
    "pass_score=float(input(\"enter the passing score\"))\n",
    "my_score=float(input(\"enter your score\"))\n",
    "if pass_score>60 or pass_score==60:\n",
    "    if my_score==pass_score:\n",
    "        print(\"Congratulations you have passed your exam\")\n",
    "    elif my_score> pass_score:\n",
    "        print(\"Congratulations you have passed your exam\")\n",
    "    else:\n",
    "        print(\"you need to work hard\")"
   ]
  },
  {
   "cell_type": "code",
   "execution_count": 21,
   "id": "385e0121",
   "metadata": {},
   "outputs": [
    {
     "name": "stdout",
     "output_type": "stream",
     "text": [
      "Number is positive\n",
      "number is less than 10\n"
     ]
    }
   ],
   "source": [
    "#Q8. assigning value 5 to variable num and printing the statements\n",
    "num=5\n",
    "if num>0:\n",
    "    print(\"Number is positive\")\n",
    "if num<10:\n",
    "    print(\"number is less than 10\")"
   ]
  },
  {
   "cell_type": "code",
   "execution_count": 20,
   "id": "3c1ead0e",
   "metadata": {},
   "outputs": [
    {
     "name": "stdout",
     "output_type": "stream",
     "text": [
      "enter a number9\n",
      "number is greater than 0\n"
     ]
    }
   ],
   "source": [
    "#Q9.taking a input from user\n",
    "n=float(input(\"enter a number\"))\n",
    "if n!=0:\n",
    "    if n>0:\n",
    "        print(\"number is greater than 0\")\n",
    "    else:\n",
    "        print(\"number is equal to zero or less than zero\")"
   ]
  },
  {
   "cell_type": "code",
   "execution_count": 22,
   "id": "a7084811",
   "metadata": {},
   "outputs": [
    {
     "name": "stdout",
     "output_type": "stream",
     "text": [
      "enter a number 10\n",
      "enter a number 20\n",
      "enter a number 30\n",
      "All the conditions are true: \n"
     ]
    }
   ],
   "source": [
    "#Q10. Multiple conditions using And\n",
    "num1=float(input(\"enter a number \"))\n",
    "num2=float(input(\"enter a number \"))\n",
    "num3=float(input(\"enter a number \"))\n",
    "if num1==10 and num2==20 and num3== 30:\n",
    "    print(\"All the conditions are true: \")"
   ]
  },
  {
   "cell_type": "code",
   "execution_count": null,
   "id": "b9c5febb",
   "metadata": {},
   "outputs": [],
   "source": [
    "#Q11. Multiple conditions using or\n",
    "fruit1=input(\"enter fruit1 \")\n",
    "#fruit2=input(\"enter fruit2 \")\n",
    "#fruit3=input(\"enter fruit3 \")\n",
    "if fruit1==\"Mango\"or fruit1==\"Apple\" or fruit1==\"Grapes\":\n",
    "    print(\"It is a fruit\")\n",
    "else:\n",
    "    print(\"it is not a fruit\")\n"
   ]
  },
  {
   "cell_type": "code",
   "execution_count": 3,
   "id": "0c30c0db",
   "metadata": {},
   "outputs": [
    {
     "name": "stdout",
     "output_type": "stream",
     "text": [
      "The average is 1.0\n",
      "The average is 3.0\n",
      "The average is 4.0\n",
      "The average is 4.75\n",
      "The average is 5.4\n",
      "The average is 6.0\n"
     ]
    }
   ],
   "source": [
    "#exercise 4 \n",
    "#Q1. python program to find out a set of integers\n",
    "sum=0\n",
    "count=0\n",
    "x=[1,5,6,7,8,9]\n",
    "for i in x:\n",
    "    sum= sum + i\n",
    "    count= count +1\n",
    "    average= sum/count\n",
    "    print(\"The average is\",average)\n",
    "    "
   ]
  },
  {
   "cell_type": "code",
   "execution_count": 4,
   "id": "da02002d",
   "metadata": {},
   "outputs": [
    {
     "name": "stdout",
     "output_type": "stream",
     "text": [
      "Apple\n",
      "Mango\n",
      "Grapes\n",
      "Banana\n",
      "Orange\n"
     ]
    }
   ],
   "source": [
    "#Q2. creating fruit list and printing it using for loop\n",
    "fruits=[\"Apple\",\"Mango\",\"Grapes\",\"Banana\",\"Orange\"]\n",
    "for fruit in fruits:\n",
    "    print(fruit)"
   ]
  },
  {
   "cell_type": "code",
   "execution_count": null,
   "id": "3809ed5c",
   "metadata": {},
   "outputs": [],
   "source": []
  }
 ],
 "metadata": {
  "kernelspec": {
   "display_name": "Python 3",
   "language": "python",
   "name": "python3"
  },
  "language_info": {
   "codemirror_mode": {
    "name": "ipython",
    "version": 3
   },
   "file_extension": ".py",
   "mimetype": "text/x-python",
   "name": "python",
   "nbconvert_exporter": "python",
   "pygments_lexer": "ipython3",
   "version": "3.8.8"
  }
 },
 "nbformat": 4,
 "nbformat_minor": 5
}
