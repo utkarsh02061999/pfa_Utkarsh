{
 "cells": [
  {
   "cell_type": "code",
   "execution_count": 3,
   "id": "0a08b51f",
   "metadata": {},
   "outputs": [
    {
     "name": "stdout",
     "output_type": "stream",
     "text": [
      "hello bob\n",
      "Hello Bob\n",
      "hi there\n"
     ]
    }
   ],
   "source": [
    "#lowering the case\n",
    "greet=\"Hello Bob\"\n",
    "zap=greet.lower()\n",
    "print(zap)\n",
    "print(greet)\n",
    "print(\"HI THERE\".lower())"
   ]
  },
  {
   "cell_type": "code",
   "execution_count": 5,
   "id": "d481c9c3",
   "metadata": {},
   "outputs": [
    {
     "name": "stdout",
     "output_type": "stream",
     "text": [
      "1\n",
      "-1\n"
     ]
    }
   ],
   "source": [
    "#searching a string using find() function\n",
    "fruit=\"banana\"\n",
    "pos=fruit.find(\"an\")\n",
    "print(pos)\n",
    "#returns a value -1 for unfounded letter here -1 is flag did not find it\n",
    "aa=fruit.find(\"x\")\n",
    "print(aa)"
   ]
  },
  {
   "cell_type": "code",
   "execution_count": 6,
   "id": "9480efdf",
   "metadata": {},
   "outputs": [
    {
     "name": "stdout",
     "output_type": "stream",
     "text": [
      "HELLO BOB\n"
     ]
    }
   ],
   "source": [
    "#upper case\n",
    "greet=\"hello bob\"\n",
    "cv=greet.upper()\n",
    "print(cv)"
   ]
  },
  {
   "cell_type": "code",
   "execution_count": 8,
   "id": "65bea1ed",
   "metadata": {},
   "outputs": [
    {
     "name": "stdout",
     "output_type": "stream",
     "text": [
      "Hello Rahul\n",
      "Hellx Bxb\n"
     ]
    }
   ],
   "source": [
    "#search and replace\n",
    "greet=\"Hello Bob\"\n",
    "rp=greet.replace(\"Bob\",\"Rahul\")\n",
    "print(rp)\n",
    "\n",
    "ab=greet.replace(\"o\",\"x\")\n",
    "print(ab)"
   ]
  },
  {
   "cell_type": "code",
   "execution_count": 9,
   "id": "3a26c764",
   "metadata": {},
   "outputs": [
    {
     "data": {
      "text/plain": [
       "'Hello    Bob'"
      ]
     },
     "execution_count": 9,
     "metadata": {},
     "output_type": "execute_result"
    }
   ],
   "source": [
    "#stripping whitespace\n",
    "greet=\"   Hello    Bob   \"\n",
    "greet.strip()"
   ]
  },
  {
   "cell_type": "code",
   "execution_count": 11,
   "id": "28728609",
   "metadata": {},
   "outputs": [
    {
     "data": {
      "text/plain": [
       "False"
      ]
     },
     "execution_count": 11,
     "metadata": {},
     "output_type": "execute_result"
    }
   ],
   "source": [
    "#prefixes\n",
    "rb=\"please have a nice day\"\n",
    "rb.startswith(\"please\")\n",
    "rb.startswith(\"P\")"
   ]
  },
  {
   "cell_type": "code",
   "execution_count": 25,
   "id": "d2996d8b",
   "metadata": {},
   "outputs": [
    {
     "name": "stdout",
     "output_type": "stream",
     "text": [
      "21\n",
      "30\n",
      "@uct.ac.za\n"
     ]
    }
   ],
   "source": [
    "str=\"From stephen.marquard@uct.ac.za Sat Jan  5 09:14:16 2008\"\n",
    "pos=str.find(\"@uct.ac.za\")\n",
    "print(pos)\n",
    "apos=str.find(\"a \")\n",
    "print(apos)\n",
    "ad=str[pos:apos+1]\n",
    "print(ad)"
   ]
  },
  {
   "cell_type": "code",
   "execution_count": 33,
   "id": "d705674a",
   "metadata": {},
   "outputs": [
    {
     "name": "stdout",
     "output_type": "stream",
     "text": [
      "It's always darkest before dawn.\n"
     ]
    }
   ],
   "source": [
    "#exercise\n",
    "str1=\"It's always darkest before dawn.\"\n",
    "print(str1)"
   ]
  },
  {
   "cell_type": "code",
   "execution_count": 34,
   "id": "29db11b1",
   "metadata": {},
   "outputs": [
    {
     "data": {
      "text/plain": [
       "\"It's always darkest before dawn!\""
      ]
     },
     "execution_count": 34,
     "metadata": {},
     "output_type": "execute_result"
    }
   ],
   "source": [
    "#Q2. \tReplace the (.) with (!)\n",
    "str1.replace(\".\",\"!\")"
   ]
  },
  {
   "cell_type": "code",
   "execution_count": 36,
   "id": "b9bf5652",
   "metadata": {},
   "outputs": [
    {
     "name": "stdout",
     "output_type": "stream",
     "text": [
      "every strike brings me closer to the next home run.\n"
     ]
    }
   ],
   "source": [
    "#Q3.\tstr=\"EVERY Strike Brings Me Closer to the Next Home run.\"\n",
    "\n",
    "#Reassign str so that, all its characters are lowercase\n",
    "\n",
    "str2=\"EVERY Strike Brings Me Closer to the Next Home run.\"\n",
    "print(str2.lower())"
   ]
  },
  {
   "cell_type": "code",
   "execution_count": 37,
   "id": "e1091b4f",
   "metadata": {},
   "outputs": [
    {
     "name": "stdout",
     "output_type": "stream",
     "text": [
      "DON'T STOP ME NOW.\n"
     ]
    }
   ],
   "source": [
    "#Q4.\tstr=\"don't stop me now.\"\n",
    "#Reassign str so that, all its characters are uppercase.\n",
    "\n",
    "str3=\"don't stop me now.\"\n",
    "print(str3.upper())"
   ]
  },
  {
   "cell_type": "code",
   "execution_count": 41,
   "id": "66cf0b3b",
   "metadata": {},
   "outputs": [
    {
     "name": "stdout",
     "output_type": "stream",
     "text": [
      "there are no traffic jams along the extra mile.\n",
      "There are no traffic jams along the extra mile.\n"
     ]
    }
   ],
   "source": [
    "#Q5.\tMake the string so that everything is properly and first letter is capital with one function.\n",
    "\n",
    "str4=\"there are no traffic JamS Along The extra mile.\"\n",
    "print(str4.lower())\n",
    "print(str4.capitalize())\n",
    "\n",
    "\n",
    "\n"
   ]
  },
  {
   "cell_type": "code",
   "execution_count": null,
   "id": "99fc9dfa",
   "metadata": {},
   "outputs": [],
   "source": []
  }
 ],
 "metadata": {
  "kernelspec": {
   "display_name": "Python 3",
   "language": "python",
   "name": "python3"
  },
  "language_info": {
   "codemirror_mode": {
    "name": "ipython",
    "version": 3
   },
   "file_extension": ".py",
   "mimetype": "text/x-python",
   "name": "python",
   "nbconvert_exporter": "python",
   "pygments_lexer": "ipython3",
   "version": "3.8.8"
  }
 },
 "nbformat": 4,
 "nbformat_minor": 5
}
