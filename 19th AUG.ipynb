{
 "cells": [
  {
   "cell_type": "code",
   "execution_count": 6,
   "id": "9a4823da",
   "metadata": {},
   "outputs": [
    {
     "name": "stdout",
     "output_type": "stream",
     "text": [
      "5\n",
      "4\n",
      "3\n",
      "2\n",
      "1\n",
      "Blastoff!!!\n",
      "0\n"
     ]
    }
   ],
   "source": [
    "n=5\n",
    "while n>0:\n",
    "    print(n)\n",
    "    n=n-1\n",
    "print(\"Blastoff!!!\")\n",
    "print(n)"
   ]
  },
  {
   "cell_type": "code",
   "execution_count": null,
   "id": "0212a25d",
   "metadata": {},
   "outputs": [],
   "source": [
    "n=0\n",
    "while n>0:\n",
    "    print(\"Lather\")\n",
    "    print(\"white\")\n",
    "print(\"dryoff!!!\")"
   ]
  },
  {
   "cell_type": "code",
   "execution_count": null,
   "id": "2a53697f",
   "metadata": {},
   "outputs": [],
   "source": [
    "while True:\n",
    "    line=input(\"\")\n",
    "    if line== \"done\":\n",
    "        break\n",
    "    print(line)\n",
    "print(\"done!\")"
   ]
  },
  {
   "cell_type": "markdown",
   "id": "17ff3639",
   "metadata": {},
   "source": [
    "\n",
    "\n"
   ]
  }
 ],
 "metadata": {
  "kernelspec": {
   "display_name": "Python 3",
   "language": "python",
   "name": "python3"
  },
  "language_info": {
   "codemirror_mode": {
    "name": "ipython",
    "version": 3
   },
   "file_extension": ".py",
   "mimetype": "text/x-python",
   "name": "python",
   "nbconvert_exporter": "python",
   "pygments_lexer": "ipython3",
   "version": "3.8.8"
  }
 },
 "nbformat": 4,
 "nbformat_minor": 5
}
