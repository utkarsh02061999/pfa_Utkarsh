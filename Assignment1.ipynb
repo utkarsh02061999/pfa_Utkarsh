{
 "cells": [
  {
   "cell_type": "code",
   "execution_count": 2,
   "id": "a9fafa5a",
   "metadata": {},
   "outputs": [
    {
     "name": "stdout",
     "output_type": "stream",
     "text": [
      "Hello Rahul\n"
     ]
    }
   ],
   "source": [
    "print(\"Hello Rahul\")\n"
   ]
  },
  {
   "cell_type": "code",
   "execution_count": 6,
   "id": "907549b4",
   "metadata": {},
   "outputs": [
    {
     "name": "stdout",
     "output_type": "stream",
     "text": [
      "2\n"
     ]
    }
   ],
   "source": [
    "x=2\n",
    "print(x)"
   ]
  },
  {
   "cell_type": "code",
   "execution_count": 10,
   "id": "4eb24f44",
   "metadata": {},
   "outputs": [
    {
     "name": "stdout",
     "output_type": "stream",
     "text": [
      "enter the no of hours45\n",
      "enter the rateNine\n",
      "error,please enter numeric vale\n"
     ]
    }
   ],
   "source": [
    "H=input(\"enter the no of hours\")\n",
    "R=input(\"enter the rate\")\n",
    "\n",
    "try:\n",
    "    a=float(H)\n",
    "    b=float(R)\n",
    "    result=a*b\n",
    "    if a>40:\n",
    "        result1=(40*b)+(a-40)*(1.5*b)\n",
    "        print(\"the output is\",result1)\n",
    "    else:\n",
    "        print(\"the output is\",result)\n",
    "except:\n",
    "    print(\"error,please enter numeric vale\")"
   ]
  },
  {
   "cell_type": "code",
   "execution_count": null,
   "id": "2215465a",
   "metadata": {},
   "outputs": [],
   "source": []
  }
 ],
 "metadata": {
  "kernelspec": {
   "display_name": "Python 3",
   "language": "python",
   "name": "python3"
  },
  "language_info": {
   "codemirror_mode": {
    "name": "ipython",
    "version": 3
   },
   "file_extension": ".py",
   "mimetype": "text/x-python",
   "name": "python",
   "nbconvert_exporter": "python",
   "pygments_lexer": "ipython3",
   "version": "3.8.8"
  }
 },
 "nbformat": 4,
 "nbformat_minor": 5
}
