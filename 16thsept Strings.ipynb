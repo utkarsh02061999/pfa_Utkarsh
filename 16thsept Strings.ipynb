{
 "cells": [
  {
   "cell_type": "code",
   "execution_count": 1,
   "id": "bca2728d",
   "metadata": {},
   "outputs": [
    {
     "name": "stdout",
     "output_type": "stream",
     "text": [
      "a\n"
     ]
    }
   ],
   "source": [
    "#performing string and finding position of letter a\n",
    "fruit=\"Banana\"\n",
    "letter=fruit[1]\n",
    "print(letter)"
   ]
  },
  {
   "cell_type": "code",
   "execution_count": 3,
   "id": "f424264c",
   "metadata": {},
   "outputs": [
    {
     "name": "stdout",
     "output_type": "stream",
     "text": [
      "n\n"
     ]
    }
   ],
   "source": [
    "#another example of string\n",
    "x=3\n",
    "w=fruit[x-1]\n",
    "print(w)\n"
   ]
  },
  {
   "cell_type": "code",
   "execution_count": 4,
   "id": "fe102a45",
   "metadata": {},
   "outputs": [
    {
     "ename": "IndexError",
     "evalue": "string index out of range",
     "output_type": "error",
     "traceback": [
      "\u001b[1;31m---------------------------------------------------------------------------\u001b[0m",
      "\u001b[1;31mIndexError\u001b[0m                                Traceback (most recent call last)",
      "\u001b[1;32m<ipython-input-4-34626e0844f9>\u001b[0m in \u001b[0;36m<module>\u001b[1;34m\u001b[0m\n\u001b[0;32m      1\u001b[0m \u001b[1;31m#out of range\u001b[0m\u001b[1;33m\u001b[0m\u001b[1;33m\u001b[0m\u001b[1;33m\u001b[0m\u001b[0m\n\u001b[0;32m      2\u001b[0m \u001b[0mzot\u001b[0m\u001b[1;33m=\u001b[0m\u001b[1;34m\"abc\"\u001b[0m\u001b[1;33m\u001b[0m\u001b[1;33m\u001b[0m\u001b[0m\n\u001b[1;32m----> 3\u001b[1;33m \u001b[0mprint\u001b[0m\u001b[1;33m(\u001b[0m\u001b[0mzot\u001b[0m\u001b[1;33m[\u001b[0m\u001b[1;36m5\u001b[0m\u001b[1;33m]\u001b[0m\u001b[1;33m)\u001b[0m\u001b[1;33m\u001b[0m\u001b[1;33m\u001b[0m\u001b[0m\n\u001b[0m",
      "\u001b[1;31mIndexError\u001b[0m: string index out of range"
     ]
    }
   ],
   "source": [
    "#out of range\n",
    "zot=\"abc\"\n",
    "print(zot[5])"
   ]
  },
  {
   "cell_type": "code",
   "execution_count": 5,
   "id": "3b7181d3",
   "metadata": {},
   "outputs": [
    {
     "name": "stdout",
     "output_type": "stream",
     "text": [
      "6\n"
     ]
    }
   ],
   "source": [
    "#length of a string\n",
    "fruit=\"banana\"\n",
    "print(len(fruit))"
   ]
  },
  {
   "cell_type": "code",
   "execution_count": 8,
   "id": "1b094123",
   "metadata": {},
   "outputs": [
    {
     "name": "stdout",
     "output_type": "stream",
     "text": [
      "b 0\n",
      "a 1\n",
      "n 2\n",
      "a 3\n",
      "n 4\n",
      "a 5\n"
     ]
    }
   ],
   "source": [
    "#looping through strings\n",
    "fruit=\"banana\"\n",
    "index=0\n",
    "while index<len(fruit):\n",
    "    letter=fruit[index]\n",
    "    print(letter,index)\n",
    "    index=index+1"
   ]
  },
  {
   "cell_type": "code",
   "execution_count": 7,
   "id": "c8c1421d",
   "metadata": {},
   "outputs": [
    {
     "name": "stdout",
     "output_type": "stream",
     "text": [
      "b\n",
      "a\n",
      "n\n",
      "a\n",
      "n\n",
      "a\n"
     ]
    }
   ],
   "source": [
    "#for loop through strings\n",
    "for f in fruit:\n",
    "    print(f)\n",
    "    "
   ]
  },
  {
   "cell_type": "code",
   "execution_count": 1,
   "id": "8648811a",
   "metadata": {},
   "outputs": [
    {
     "name": "stdout",
     "output_type": "stream",
     "text": [
      "b\n",
      "a\n",
      "n\n",
      "a\n",
      "n\n",
      "a\n"
     ]
    }
   ],
   "source": [
    "#while loop\n",
    "fruit=\"banana\"\n",
    "index=0\n",
    "while index<len(fruit):\n",
    "    letter=fruit[index]\n",
    "    index=index+1\n",
    "    print(letter)\n",
    "    "
   ]
  },
  {
   "cell_type": "code",
   "execution_count": 15,
   "id": "98c4467e",
   "metadata": {},
   "outputs": [
    {
     "name": "stdout",
     "output_type": "stream",
     "text": [
      "a 3\n"
     ]
    }
   ],
   "source": [
    "#counting the letter a\n",
    "fruit=\"banana\"\n",
    "count=0\n",
    "for f in fruit:\n",
    "    if f==\"a\":\n",
    "       count=count+1\n",
    "print(f,count)\n",
    "    \n",
    "    "
   ]
  },
  {
   "cell_type": "code",
   "execution_count": 16,
   "id": "aef91070",
   "metadata": {},
   "outputs": [
    {
     "name": "stdout",
     "output_type": "stream",
     "text": [
      "MONT\n"
     ]
    }
   ],
   "source": [
    "#slicing Strings\n",
    "s=\"MONTY PYTHON\"\n",
    "print(s[0:4])\n"
   ]
  },
  {
   "cell_type": "code",
   "execution_count": 17,
   "id": "ac24c7d5",
   "metadata": {},
   "outputs": [
    {
     "name": "stdout",
     "output_type": "stream",
     "text": [
      "P\n"
     ]
    }
   ],
   "source": [
    "print(s[6:7])"
   ]
  },
  {
   "cell_type": "code",
   "execution_count": 18,
   "id": "a338cb40",
   "metadata": {},
   "outputs": [
    {
     "name": "stdout",
     "output_type": "stream",
     "text": [
      "Y\n"
     ]
    }
   ],
   "source": [
    "print(s[7])"
   ]
  },
  {
   "cell_type": "code",
   "execution_count": 19,
   "id": "086c6019",
   "metadata": {},
   "outputs": [
    {
     "name": "stdout",
     "output_type": "stream",
     "text": [
      "PY\n"
     ]
    }
   ],
   "source": [
    "print(s[6:8])"
   ]
  },
  {
   "cell_type": "code",
   "execution_count": 20,
   "id": "e07d20c8",
   "metadata": {},
   "outputs": [
    {
     "name": "stdout",
     "output_type": "stream",
     "text": [
      "PYTHON\n"
     ]
    }
   ],
   "source": [
    "print(s[6:20])"
   ]
  },
  {
   "cell_type": "code",
   "execution_count": 1,
   "id": "02745ad0",
   "metadata": {},
   "outputs": [
    {
     "name": "stdout",
     "output_type": "stream",
     "text": [
      "ing\n"
     ]
    }
   ],
   "source": [
    "#slicing exercise\n",
    "#Q1.print ing as ouput using slicing\n",
    "str=\"string slicing\"\n",
    "print(str[11:14])\n"
   ]
  },
  {
   "cell_type": "code",
   "execution_count": 2,
   "id": "404093b5",
   "metadata": {},
   "outputs": [
    {
     "name": "stdout",
     "output_type": "stream",
     "text": [
      "ng sli\n"
     ]
    }
   ],
   "source": [
    "#Q2.print ng sli\n",
    "print(str[4:10])"
   ]
  },
  {
   "cell_type": "code",
   "execution_count": 3,
   "id": "3864c243",
   "metadata": {},
   "outputs": [
    {
     "name": "stdout",
     "output_type": "stream",
     "text": [
      "string slicing\n"
     ]
    }
   ],
   "source": [
    "#Q3. print the whole word using slicing\n",
    "print(str[0:14])"
   ]
  },
  {
   "cell_type": "code",
   "execution_count": 10,
   "id": "ba658cda",
   "metadata": {},
   "outputs": [
    {
     "name": "stdout",
     "output_type": "stream",
     "text": [
      "string slicing\n"
     ]
    }
   ],
   "source": [
    "#Q4. print slicing using negative index\n",
    "str=\"string slicing\"\n",
    "#index=-14\n",
    "print(str[-14:])"
   ]
  },
  {
   "cell_type": "code",
   "execution_count": 8,
   "id": "004eff7d",
   "metadata": {},
   "outputs": [
    {
     "name": "stdout",
     "output_type": "stream",
     "text": [
      "ing\n"
     ]
    }
   ],
   "source": [
    "#negative slicing ing\n",
    "str=\"string slicing\"\n",
    "print(str[-3:])"
   ]
  },
  {
   "cell_type": "code",
   "execution_count": 10,
   "id": "ea91e6df",
   "metadata": {},
   "outputs": [
    {
     "name": "stdout",
     "output_type": "stream",
     "text": [
      "ng sli\n"
     ]
    }
   ],
   "source": [
    "#negative slicing for output ng sli\n",
    "print(str[-10:-4])"
   ]
  },
  {
   "cell_type": "code",
   "execution_count": 11,
   "id": "0dfd64a7",
   "metadata": {},
   "outputs": [
    {
     "name": "stdout",
     "output_type": "stream",
     "text": [
      " slicing\n"
     ]
    }
   ],
   "source": [
    "print(str[-8:])"
   ]
  },
  {
   "cell_type": "code",
   "execution_count": 12,
   "id": "ad55fc60",
   "metadata": {},
   "outputs": [
    {
     "name": "stdout",
     "output_type": "stream",
     "text": [
      "g slic\n"
     ]
    }
   ],
   "source": [
    "#Q5. printing g slic as positive index\n",
    "print(str[5:11])"
   ]
  },
  {
   "cell_type": "code",
   "execution_count": 13,
   "id": "024d1427",
   "metadata": {},
   "outputs": [
    {
     "name": "stdout",
     "output_type": "stream",
     "text": [
      "g slic\n"
     ]
    }
   ],
   "source": [
    "#Q5. printing output as g slic as negative index\n",
    "print(str[-9:-3])"
   ]
  },
  {
   "cell_type": "code",
   "execution_count": 14,
   "id": "9481dd88",
   "metadata": {},
   "outputs": [
    {
     "name": "stdout",
     "output_type": "stream",
     "text": [
      "ing sli\n"
     ]
    }
   ],
   "source": [
    "#Q6. printing output as ing sli using positive index\n",
    "print(str[3:10])"
   ]
  },
  {
   "cell_type": "code",
   "execution_count": 15,
   "id": "f17145c1",
   "metadata": {},
   "outputs": [
    {
     "name": "stdout",
     "output_type": "stream",
     "text": [
      "ing sli\n"
     ]
    }
   ],
   "source": [
    "#Q6. printing output as ing sli using negative index\n",
    "print(str[-11:-4])"
   ]
  },
  {
   "cell_type": "code",
   "execution_count": 21,
   "id": "9428eaee",
   "metadata": {},
   "outputs": [
    {
     "name": "stdout",
     "output_type": "stream",
     "text": [
      "s i i g\n"
     ]
    }
   ],
   "source": [
    "\n",
    "print(str[-7],str[-5],str[-11],str[-1])"
   ]
  },
  {
   "cell_type": "code",
   "execution_count": 29,
   "id": "3a2f4f74",
   "metadata": {},
   "outputs": [
    {
     "name": "stdout",
     "output_type": "stream",
     "text": [
      "siig\n"
     ]
    }
   ],
   "source": [
    "#here 2 is steps \n",
    "print(str[-7::2])"
   ]
  },
  {
   "cell_type": "code",
   "execution_count": 27,
   "id": "6a7a140c",
   "metadata": {},
   "outputs": [
    {
     "name": "stdout",
     "output_type": "stream",
     "text": [
      "siig\n"
     ]
    }
   ],
   "source": [
    "print(str[7:14:2])"
   ]
  },
  {
   "cell_type": "code",
   "execution_count": null,
   "id": "2dd03b18",
   "metadata": {},
   "outputs": [],
   "source": []
  }
 ],
 "metadata": {
  "kernelspec": {
   "display_name": "Python 3",
   "language": "python",
   "name": "python3"
  },
  "language_info": {
   "codemirror_mode": {
    "name": "ipython",
    "version": 3
   },
   "file_extension": ".py",
   "mimetype": "text/x-python",
   "name": "python",
   "nbconvert_exporter": "python",
   "pygments_lexer": "ipython3",
   "version": "3.8.8"
  }
 },
 "nbformat": 4,
 "nbformat_minor": 5
}
