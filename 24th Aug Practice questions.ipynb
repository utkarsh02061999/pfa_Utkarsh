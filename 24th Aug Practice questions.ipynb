{
 "cells": [
  {
   "cell_type": "code",
   "execution_count": 1,
   "id": "7d063479",
   "metadata": {},
   "outputs": [
    {
     "name": "stdout",
     "output_type": "stream",
     "text": [
      "17\n"
     ]
    }
   ],
   "source": [
    "#---------exercise 1--------------\n",
    "print(7+10)"
   ]
  },
  {
   "cell_type": "code",
   "execution_count": 2,
   "id": "23d1fe95",
   "metadata": {},
   "outputs": [
    {
     "name": "stdout",
     "output_type": "stream",
     "text": [
      "17\n"
     ]
    }
   ],
   "source": [
    "#Addition\n",
    "print(7+10)\n"
   ]
  },
  {
   "cell_type": "code",
   "execution_count": 5,
   "id": "4e0b43b6",
   "metadata": {},
   "outputs": [
    {
     "name": "stdout",
     "output_type": "stream",
     "text": [
      "13\n",
      "15\n",
      "5.0\n",
      "4\n",
      "16\n"
     ]
    }
   ],
   "source": [
    "#Subtraction\n",
    "print(25-12)\n",
    "\n",
    "#Multiplication\n",
    "print(3*5)\n",
    "\n",
    "#Division\n",
    "print(10/2)\n",
    "\n",
    "#modulo(remainder)\n",
    "print(18%7)\n",
    "\n",
    "#power\n",
    "print(4**2)"
   ]
  },
  {
   "cell_type": "code",
   "execution_count": 8,
   "id": "6dcdf311",
   "metadata": {},
   "outputs": [
    {
     "name": "stdout",
     "output_type": "stream",
     "text": [
      "enter the principal amount5000\n",
      "enter the rate of interest7\n",
      "enter the no of years5\n",
      "the total interest earned is 1750.0\n",
      "the total value is 6750.0\n"
     ]
    }
   ],
   "source": [
    "#calculating Simple interest and total savings\n",
    "P= input(\"enter the principal amount\")\n",
    "R=input(\"enter the rate of interest\")\n",
    "N=input(\"enter the no of years\")\n",
    "SI= (float(P)*float(N)*float(R))/100\n",
    "print(\"the total interest earned is\",SI)\n",
    "\n",
    "#calculating savings amount\n",
    "Total_value= float(P)+ float(SI)\n",
    "print(\"the total value is\",Total_value)\n"
   ]
  },
  {
   "cell_type": "code",
   "execution_count": 10,
   "id": "67e23b0b",
   "metadata": {},
   "outputs": [
    {
     "name": "stdout",
     "output_type": "stream",
     "text": [
      "enter the principal amount8000\n",
      "enter the rate of interest8.7\n",
      "enter the interest earned4872\n",
      "the total no of years is 7.0\n"
     ]
    }
   ],
   "source": [
    "#calculating the no of years to earn 4872 as interest\n",
    "P=input(\"enter the principal amount\")\n",
    "R=input(\"enter the rate of interest\")\n",
    "SI=input(\"enter the interest earned\")\n",
    "T=(float(SI)*100)/(float(P)*float(R))\n",
    "print(\"the total no of years is\",T)"
   ]
  },
  {
   "cell_type": "code",
   "execution_count": 13,
   "id": "54cecd65",
   "metadata": {},
   "outputs": [
    {
     "name": "stdout",
     "output_type": "stream",
     "text": [
      "6.4\n"
     ]
    }
   ],
   "source": [
    "#calculating the rate of interest\n",
    "print((float(768)*100)/(float(3000)*float(4)))\n"
   ]
  },
  {
   "cell_type": "code",
   "execution_count": 26,
   "id": "8c219323",
   "metadata": {},
   "outputs": [
    {
     "name": "stdout",
     "output_type": "stream",
     "text": [
      "194.87171000000012\n"
     ]
    }
   ],
   "source": [
    "#calculating amount aafter 7 years\n",
    "print(float(100)*(float(1.1)**7))"
   ]
  },
  {
   "cell_type": "code",
   "execution_count": 29,
   "id": "144cdb19",
   "metadata": {},
   "outputs": [
    {
     "name": "stdout",
     "output_type": "stream",
     "text": [
      "100\n",
      "1.1\n",
      "194.8717\n"
     ]
    }
   ],
   "source": [
    "#--------------exercise 2 --------------\n",
    "savings=100\n",
    "print(savings)\n",
    "\n",
    "growth_multiplier=1.1\n",
    "print(growth_multiplier)\n",
    "\n",
    "result= 194.8717\n",
    "print(result)"
   ]
  },
  {
   "cell_type": "code",
   "execution_count": 44,
   "id": "778ba016",
   "metadata": {},
   "outputs": [
    {
     "data": {
      "text/plain": [
       "str"
      ]
     },
     "execution_count": 44,
     "metadata": {},
     "output_type": "execute_result"
    }
   ],
   "source": [
    "#creating string\n",
    "desc=\"compound interest\"\n",
    "type(desc)\n"
   ]
  },
  {
   "cell_type": "code",
   "execution_count": 45,
   "id": "6229fea0",
   "metadata": {},
   "outputs": [
    {
     "data": {
      "text/plain": [
       "bool"
      ]
     },
     "execution_count": 45,
     "metadata": {},
     "output_type": "execute_result"
    }
   ],
   "source": [
    "#boolean\n",
    "profitable=True\n",
    "type(profitable)"
   ]
  },
  {
   "cell_type": "code",
   "execution_count": 48,
   "id": "d4dc18c3",
   "metadata": {},
   "outputs": [
    {
     "data": {
      "text/plain": [
       "str"
      ]
     },
     "execution_count": 48,
     "metadata": {},
     "output_type": "execute_result"
    }
   ],
   "source": [
    "A=10.7\n",
    "type(A)"
   ]
  },
  {
   "cell_type": "code",
   "execution_count": 49,
   "id": "0dae9c58",
   "metadata": {},
   "outputs": [
    {
     "data": {
      "text/plain": [
       "str"
      ]
     },
     "execution_count": 49,
     "metadata": {},
     "output_type": "execute_result"
    }
   ],
   "source": [
    "B=\"This is python course\"\n",
    "type(B)"
   ]
  },
  {
   "cell_type": "code",
   "execution_count": 50,
   "id": "e6959c7d",
   "metadata": {},
   "outputs": [
    {
     "data": {
      "text/plain": [
       "bool"
      ]
     },
     "execution_count": 50,
     "metadata": {},
     "output_type": "execute_result"
    }
   ],
   "source": [
    "C=False\n",
    "type(C)"
   ]
  },
  {
   "cell_type": "code",
   "execution_count": 55,
   "id": "5fc847a5",
   "metadata": {},
   "outputs": [
    {
     "name": "stdout",
     "output_type": "stream",
     "text": [
      "110.00000000000001\n",
      "compound Interest compound Interest \n"
     ]
    }
   ],
   "source": [
    "savings=100\n",
    "growth_multiplier=1.1\n",
    "desc=\"compound Interest \"\n",
    "year1=print(float(savings)*float(growth_multiplier))\n",
    "\n",
    "doubledesc=str(desc)+str(desc)\n",
    "print(doubledesc)\n"
   ]
  },
  {
   "cell_type": "code",
   "execution_count": 64,
   "id": "b12670e4",
   "metadata": {},
   "outputs": [
    {
     "name": "stdout",
     "output_type": "stream",
     "text": [
      "I started with $ 100 and now I have $ 194.87171000000012 Awesome! \n"
     ]
    }
   ],
   "source": [
    "savings=100\n",
    "result=100*1.10**7\n",
    "print(\"I started with $ \"+ str(savings) + \" and now I have $ \"+ str(result) + \" Awesome! \")"
   ]
  },
  {
   "cell_type": "code",
   "execution_count": 65,
   "id": "6fd4c126",
   "metadata": {},
   "outputs": [
    {
     "name": "stdout",
     "output_type": "stream",
     "text": [
      "6.2831852\n"
     ]
    }
   ],
   "source": [
    "pi_string=\"3.1415926\"\n",
    "pi_float= float(pi_string)\n",
    "double_pi=print(pi_float*2)"
   ]
  },
  {
   "cell_type": "code",
   "execution_count": 71,
   "id": "ba5db524",
   "metadata": {},
   "outputs": [
    {
     "name": "stdout",
     "output_type": "stream",
     "text": [
      "5 to strings\n",
      "I said HeyHeyHey!\n",
      "1\n"
     ]
    }
   ],
   "source": [
    "print(str(5)+\" to strings\")\n",
    "print(\"I said \"+(\"Hey\"*2)+\"Hey!\")\n",
    "#print(\"the correct answer to this multiple choice exercise is answer number\"+2)  this statement gives an error\n",
    "print(True+False)\n"
   ]
  },
  {
   "cell_type": "code",
   "execution_count": 74,
   "id": "a91585c4",
   "metadata": {},
   "outputs": [
    {
     "name": "stdout",
     "output_type": "stream",
     "text": [
      "enter the number5\n",
      "the number is odd\n"
     ]
    }
   ],
   "source": [
    "#---------------exercise 3-----------\n",
    "#checking wheter the given no is even or not\n",
    "num=input(\"enter the number\")\n",
    "if float(num)%2==0:\n",
    "    print(\"the number is even\")\n",
    "else:\n",
    "    print(\"the number is odd\")"
   ]
  },
  {
   "cell_type": "code",
   "execution_count": 75,
   "id": "155be395",
   "metadata": {},
   "outputs": [
    {
     "name": "stdout",
     "output_type": "stream",
     "text": [
      "enter the temperature in celsius30\n",
      "the temperature in fahrenheit is  86.0\n"
     ]
    }
   ],
   "source": [
    "#converting temperature in degree /centigrade to fahrenheit\n",
    "T=input(\"enter the temperature in celsius\")\n",
    "F= (float(T)*1.8)+32\n",
    "print(\"the temperature in fahrenheit is \",F)"
   ]
  },
  {
   "cell_type": "code",
   "execution_count": 84,
   "id": "a29957ad",
   "metadata": {},
   "outputs": [
    {
     "name": "stdout",
     "output_type": "stream",
     "text": [
      "enter the side1 4\n",
      "enter the side2 3\n",
      "enter the side3 6\n",
      "5.332682251925386\n"
     ]
    }
   ],
   "source": [
    "#calculating area of triangle\n",
    "import math\n",
    "math.sqrt\n",
    "side1=input(\"enter the side1 \")\n",
    "side2=input(\"enter the side2 \")\n",
    "side3=input(\"enter the side3 \")\n",
    "a= float(side1)\n",
    "b=float(side2)\n",
    "c=float(side3)\n",
    "S=(a+b+c)/2\n",
    "area=math.sqrt(S*(S-a)*(S-b)*(S-c))\n",
    "print(area)"
   ]
  },
  {
   "cell_type": "code",
   "execution_count": 106,
   "id": "2ca9d681",
   "metadata": {},
   "outputs": [
    {
     "name": "stdout",
     "output_type": "stream",
     "text": [
      "pi is 3.141592653589793\n",
      "area is 50.26548245743669\n"
     ]
    }
   ],
   "source": [
    "#calculating area and circumference of circle\n",
    "import math\n",
    "radius=4\n",
    "print(\"pi is\",math.pi)\n",
    "print(\"area is\",math.pi*(int(radius)**2))\n"
   ]
  },
  {
   "cell_type": "code",
   "execution_count": 109,
   "id": "9eaa8484",
   "metadata": {},
   "outputs": [
    {
     "name": "stdout",
     "output_type": "stream",
     "text": [
      "enter the number55\n",
      "multiple of 5\n"
     ]
    }
   ],
   "source": [
    "#checking whether a given input is multiple of 5 or not\n",
    "num=input(\"enter the number\")\n",
    "n=float(num)\n",
    "if float(n%5==0):\n",
    "    print(\"multiple of 5\")\n",
    "else:\n",
    "    print(\"not a multiple of 5\")\n"
   ]
  },
  {
   "cell_type": "code",
   "execution_count": null,
   "id": "c55dbbc4",
   "metadata": {},
   "outputs": [],
   "source": []
  }
 ],
 "metadata": {
  "kernelspec": {
   "display_name": "Python 3",
   "language": "python",
   "name": "python3"
  },
  "language_info": {
   "codemirror_mode": {
    "name": "ipython",
    "version": 3
   },
   "file_extension": ".py",
   "mimetype": "text/x-python",
   "name": "python",
   "nbconvert_exporter": "python",
   "pygments_lexer": "ipython3",
   "version": "3.8.8"
  }
 },
 "nbformat": 4,
 "nbformat_minor": 5
}
